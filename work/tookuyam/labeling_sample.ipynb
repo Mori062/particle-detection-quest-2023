{
 "cells": [
  {
   "cell_type": "code",
   "execution_count": 10,
   "id": "31e26d94-805b-4b9d-8a12-294735cc36b8",
   "metadata": {},
   "outputs": [
    {
     "name": "stdout",
     "output_type": "stream",
     "text": [
      "\u001b[33mWARNING: The directory '/home/jovyan/.cache/pip' or its parent directory is not owned or is not writable by the current user. The cache has been disabled. Check the permissions and owner of that directory. If executing pip with sudo, you should use sudo's -H flag.\u001b[0m\u001b[33m\n",
      "\u001b[0mRequirement already satisfied: opencv-python in /opt/conda/lib/python3.11/site-packages (4.8.1.78)\n",
      "Requirement already satisfied: numpy>=1.21.2 in /opt/conda/lib/python3.11/site-packages (from opencv-python) (1.24.4)\n",
      "\u001b[33mWARNING: Running pip as the 'root' user can result in broken permissions and conflicting behaviour with the system package manager. It is recommended to use a virtual environment instead: https://pip.pypa.io/warnings/venv\u001b[0m\u001b[33m\n",
      "\u001b[0m"
     ]
    }
   ],
   "source": [
    "!pip install opencv-python"
   ]
  },
  {
   "cell_type": "code",
   "execution_count": 9,
   "id": "adf5a9d2-90c3-4820-a2fa-40954e0828ac",
   "metadata": {},
   "outputs": [
    {
     "data": {
      "application/vnd.jupyter.widget-view+json": {
       "model_id": "ee0acc4ecaeb43da98fd1e623dcede42",
       "version_major": 2,
       "version_minor": 0
      },
      "text/plain": [
       "interactive(children=(IntSlider(value=0, description='x', max=25518), Output()), _dom_classes=('widget-interac…"
      ]
     },
     "metadata": {},
     "output_type": "display_data"
    }
   ],
   "source": [
    "\n",
    "import numpy as np # https://numpy.org/ja/\n",
    "import pandas as pd # https://pandas.pydata.org/\n",
    "from skimage.transform import resize\n",
    "import matplotlib.pyplot as plt\n",
    "from PIL import Image\n",
    "from ipywidgets import interact\n",
    "\n",
    "df=pd.read_pickle(\"../input/LSWMD_25519.pkl\")\n",
    "\n",
    "from myLabeling import myLabeling\n",
    "\n",
    "def image_show(x=0):\n",
    "    print(df.failureType[x]);\n",
    "    image_sample = df.waferMap[x]\n",
    "    if df.failureType[x] != 'Random' and df.failureType[x] != 'Near-full':\n",
    "        image_sample = myLabeling.simple(image_sample)\n",
    "    target_size = (40, 40)\n",
    "    image_sample = resize(image_sample, target_size, anti_aliasing=True)\n",
    "    plt.imshow(image_sample)\n",
    "    plt.show()\n",
    "    plt.imshow(image_sample)\n",
    "    plt.show()\n",
    "    return x\n",
    "\n",
    "#スライダー\n",
    "interact(image_show, x=(0, len(df.waferMap) - 1));"
   ]
  },
  {
   "cell_type": "code",
   "execution_count": null,
   "id": "1bad40ef-880f-482a-8f3a-cdc4c906cd10",
   "metadata": {},
   "outputs": [],
   "source": []
  },
  {
   "cell_type": "code",
   "execution_count": null,
   "id": "7031d226-5f94-4316-8420-215ae8b89c24",
   "metadata": {},
   "outputs": [],
   "source": []
  },
  {
   "cell_type": "code",
   "execution_count": null,
   "id": "df41a79d-5406-4e21-8c1d-4e314a00ff4e",
   "metadata": {},
   "outputs": [],
   "source": []
  }
 ],
 "metadata": {
  "kernelspec": {
   "display_name": "Python 3 (ipykernel)",
   "language": "python",
   "name": "python3"
  },
  "language_info": {
   "codemirror_mode": {
    "name": "ipython",
    "version": 3
   },
   "file_extension": ".py",
   "mimetype": "text/x-python",
   "name": "python",
   "nbconvert_exporter": "python",
   "pygments_lexer": "ipython3",
   "version": "3.11.6"
  }
 },
 "nbformat": 4,
 "nbformat_minor": 5
}
