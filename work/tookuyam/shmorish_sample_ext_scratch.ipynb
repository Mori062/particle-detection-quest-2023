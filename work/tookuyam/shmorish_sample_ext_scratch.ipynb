{
 "cells": [
  {
   "cell_type": "code",
   "execution_count": 1,
   "id": "71c72160-b201-4ecc-bf93-9207a5f79bc3",
   "metadata": {},
   "outputs": [],
   "source": [
    "import numpy as np # https://numpy.org/ja/\n",
    "import pandas as pd # https://pandas.pydata.org/\n",
    "from sklearn.model_selection import train_test_split"
   ]
  },
  {
   "cell_type": "code",
   "execution_count": 2,
   "id": "b49329a0-1af5-4d43-a61d-18258b863f57",
   "metadata": {},
   "outputs": [
    {
     "name": "stdout",
     "output_type": "stream",
     "text": [
      "\u001b[33mWARNING: The directory '/home/jovyan/.cache/pip' or its parent directory is not owned or is not writable by the current user. The cache has been disabled. Check the permissions and owner of that directory. If executing pip with sudo, you should use sudo's -H flag.\u001b[0m\u001b[33m\n",
      "\u001b[0mRequirement already satisfied: keras in /opt/conda/lib/python3.11/site-packages (2.15.0)\n",
      "\u001b[33mWARNING: Running pip as the 'root' user can result in broken permissions and conflicting behaviour with the system package manager. It is recommended to use a virtual environment instead: https://pip.pypa.io/warnings/venv\u001b[0m\u001b[33m\n",
      "\u001b[0m\u001b[33mWARNING: The directory '/home/jovyan/.cache/pip' or its parent directory is not owned or is not writable by the current user. The cache has been disabled. Check the permissions and owner of that directory. If executing pip with sudo, you should use sudo's -H flag.\u001b[0m\u001b[33m\n",
      "\u001b[0mRequirement already satisfied: opencv-python in /opt/conda/lib/python3.11/site-packages (4.8.1.78)\n",
      "Requirement already satisfied: numpy>=1.21.2 in /opt/conda/lib/python3.11/site-packages (from opencv-python) (1.24.4)\n",
      "\u001b[33mWARNING: Running pip as the 'root' user can result in broken permissions and conflicting behaviour with the system package manager. It is recommended to use a virtual environment instead: https://pip.pypa.io/warnings/venv\u001b[0m\u001b[33m\n",
      "\u001b[0m"
     ]
    }
   ],
   "source": [
    "# 必要な外部パッケージは、以下の内容を編集しインストールしてください\n",
    "!pip install keras\n",
    "!pip install opencv-python\n",
    "# !pip install tensorflow[and-cuda]"
   ]
  },
  {
   "cell_type": "code",
   "execution_count": 3,
   "id": "3fad50b5-1787-47d9-8173-a16cb266cd18",
   "metadata": {},
   "outputs": [],
   "source": [
    "class JudgeParticle:\n",
    "\n",
    "    @staticmethod\n",
    "    def opening(image, non_zero_thread=4):\n",
    "        cp = image.copy()\n",
    "        for y in range(len(image)):\n",
    "            for x in range(len(image[0])):\n",
    "                if image[y][x] == 0:\n",
    "                    continue\n",
    "                offsets = [ (-1, 0),\n",
    "                   (0, -1),           (0, 1),\n",
    "                    (1, 0),\n",
    "                ]\n",
    "                values = []\n",
    "                for offset in offsets:\n",
    "                    _y = y + offset[0]\n",
    "                    _x = x + offset[1]\n",
    "                    if 0 <= _y < len(image) and 0 <= _x < len(image[0]):\n",
    "                        values.append(image[_y][_x])\n",
    "                    else:\n",
    "                        values.append(0)\n",
    "                if np.count_nonzero(values) <= non_zero_thread:\n",
    "                    cp[y][x] = 0\n",
    "                # cp[y][x] = np.count_nonzero(values)\n",
    "        return cp\n",
    "        \n",
    "    @staticmethod\n",
    "    def closing(image, non_zero_thread=1):\n",
    "        cp = image.copy()\n",
    "        for y in range(len(image)):\n",
    "            for x in range(len(image[0])):\n",
    "                if image[y][x] != 0:\n",
    "                    continue\n",
    "                offsets = [ (-1, 0),\n",
    "                   (0, -1),           (0, 1),\n",
    "                    (1, 0),\n",
    "                ]\n",
    "                values = []\n",
    "                for offset in offsets:\n",
    "                    _y = y + offset[0]\n",
    "                    _x = x + offset[1]\n",
    "                    if 0 <= _y < len(image) and 0 <= _x < len(image[0]):\n",
    "                        values.append(image[_y][_x])\n",
    "                    else:\n",
    "                        values.append(0)\n",
    "                if np.count_nonzero(values) >= non_zero_thread:\n",
    "                    cp[y][x] = 2\n",
    "                # cp[y][x] = np.count_nonzero(values)\n",
    "        return cp\n",
    "\n",
    "    @staticmethod\n",
    "    def get_is_Scratch_accuracy(df_row):\n",
    "        from myLabeling import myLabeling\n",
    "        import math\n",
    "        import cv2\n",
    "\n",
    "        cutting_img = df_row.waferMap.copy()\n",
    "        cutting_img[cutting_img < 2] = 0\n",
    "        cutting_particle_cnt = np.count_nonzero(cutting_img)\n",
    "        erosion_img = cutting_img\n",
    "        erosion_img = JudgeParticle.opening(erosion_img, 2)\n",
    "        erosion_particle_cnt = np.count_nonzero(erosion_img)\n",
    "        rate = erosion_particle_cnt / cutting_particle_cnt\n",
    "        return rate\n",
    "        \n",
    "    @staticmethod\n",
    "    def is_Scratch(df_row, is_print=True, thread=0.017):\n",
    "        from myLabeling import myLabeling\n",
    "        import math\n",
    "        import cv2\n",
    "\n",
    "        rate = JudgeParticle.get_is_Scratch_accuracy(df_row)\n",
    "        if rate <= thread:\n",
    "            return True\n",
    "        else:\n",
    "            return False\n",
    "\n",
    "def solution(x_test_df, train_df):\n",
    "    import numpy as np\n",
    "    from skimage.transform import resize\n",
    "    from sklearn.svm import SVC\n",
    "    from sklearn.decomposition import PCA\n",
    "    from sklearn.preprocessing import StandardScaler\n",
    "    from sklearn.neighbors import NearestCentroid\n",
    "\n",
    "    #画像を共通のサイズにリサイズ\n",
    "    target_size = (81, 81)\n",
    "    resized_images = []\n",
    "    for img in train_df['waferMap']:\n",
    "        resized_img = resize(img, target_size, anti_aliasing=True)\n",
    "        resized_images.append(resized_img)\n",
    "\n",
    "    #NumPy配列に変換\n",
    "    X_train = np.array(resized_images)\n",
    "    y_train = np.array(train_df['failureType'])\n",
    "\n",
    "    #PCA次元削減\n",
    "    pca = PCA(n_components=350)\n",
    "    X_train_pca = pca.fit_transform(X_train.reshape(X_train.shape[0], -1))\n",
    "\n",
    "    # SVM作成と訓練\n",
    "    svm_model = SVC(kernel='linear', C=80, random_state=100, max_iter=-1)\n",
    "    svm_model.fit(X_train_pca, y_train)\n",
    "\n",
    "    #テストデータで予測\n",
    "    resized_images_test = []\n",
    "    for img in x_test_df['waferMap']:\n",
    "        resized_img_test = resize(img, target_size, anti_aliasing=True)\n",
    "        resized_images_test.append(resized_img_test)\n",
    "\n",
    "    X_test = np.array(resized_images_test)\n",
    "    X_test_pca = pca.transform(X_test.reshape(X_test.shape[0], -1))\n",
    "\n",
    "    y_pred = svm_model.predict(X_test_pca)\n",
    "\n",
    "    user_result_df = x_test_df.assign(failureType = y_pred)\n",
    "    \n",
    "    # DataFrameの内容を一行ずつループして、一部を書き換える\n",
    "    failureTypes = []\n",
    "    for row in user_result_df.itertuples():\n",
    "        if row.failureType == 'Loc' and JudgeParticle.is_Scratch(row):\n",
    "            failureTypes.append('Scratch')\n",
    "        else:\n",
    "            failureTypes.append(row.failureType)\n",
    "    \n",
    "    return pd.DataFrame({'failureType': failureTypes}, index=x_test_df.index)"
   ]
  },
  {
   "cell_type": "code",
   "execution_count": 4,
   "id": "540e7e59-55b4-41a8-aebd-ace4360cdb69",
   "metadata": {},
   "outputs": [
    {
     "name": "stdout",
     "output_type": "stream",
     "text": [
      "平均精度：80.04%\n"
     ]
    }
   ],
   "source": [
    "# %%timeit -r 1 -n 1\n",
    "\n",
    "# データのインポート\n",
    "df=pd.read_pickle(\"../input/LSWMD_25519.pkl\")\n",
    "\n",
    "# テスト用と学習用のデータを作成（テストする際は、random_stateの値などを編集してみてください）\n",
    "train_df, test_df = train_test_split(df, stratify=df['failureType'], test_size=0.10, random_state=42)\n",
    "\n",
    "y_test_df = test_df[['failureType']]\n",
    "x_test_df = test_df.drop(columns=['failureType'])\n",
    "\n",
    "# solution関数を実行\n",
    "user_result_df = solution(x_test_df, train_df)\n",
    "\n",
    "average_accuracy = 0\n",
    "# ユーザーの提出物のフォーマット確認\n",
    "if type(y_test_df) == type(user_result_df) and y_test_df.shape == user_result_df.shape:\n",
    "    # 平均精度の計算\n",
    "    accuracies = {}\n",
    "    for failure_type in df['failureType'].unique():\n",
    "        y_test_df_by_failure_type = y_test_df[y_test_df['failureType'] == failure_type]\n",
    "        user_result_df_by_failure_type = user_result_df[y_test_df['failureType'] == failure_type]\n",
    "        matching_rows = (y_test_df_by_failure_type == user_result_df_by_failure_type).all(axis=1).sum()\n",
    "        accuracies[failure_type] = (matching_rows/(len(y_test_df_by_failure_type)))\n",
    "\n",
    "    average_accuracy = sum(accuracies.values())/len(accuracies)\n",
    "\n",
    "print(f\"平均精度：{average_accuracy*100:.2f}%\")"
   ]
  },
  {
   "cell_type": "code",
   "execution_count": 5,
   "id": "a12da34e-4243-4e82-9368-e7ce799f2558",
   "metadata": {},
   "outputs": [
    {
     "name": "stdout",
     "output_type": "stream",
     "text": [
      "{'Loc': 0.7743732590529248, 'Edge-Loc': 0.8304431599229287, 'Center': 0.9557109557109557, 'Edge-Ring': 0.96900826446281, 'Scratch': 0.2773109243697479, 'Random': 0.7931034482758621, 'Near-full': 1.0, 'Donut': 0.8035714285714286}\n"
     ]
    },
    {
     "data": {
      "text/plain": [
       "<sklearn.metrics._plot.confusion_matrix.ConfusionMatrixDisplay at 0x7f8e26848e10>"
      ]
     },
     "execution_count": 5,
     "metadata": {},
     "output_type": "execute_result"
    },
    {
     "data": {
      "image/png": "[encoded data removed]",
      "text/plain": [
       "<Figure size 640x480 with 2 Axes>"
      ]
     },
     "metadata": {},
     "output_type": "display_data"
    }
   ],
   "source": [
    "from sklearn.metrics import confusion_matrix, ConfusionMatrixDisplay\n",
    "import matplotlib.pyplot as plt\n",
    "\n",
    "# 参考：https://qiita.com/wakame1367/items/5420ac91702edf993124\n",
    "# 恐らく、こんな意味↓ ドキュメント見てもよくわからんかった。\n",
    "# y_pred: 予測したfailureType, y_true: 正解のfailureType\n",
    "print(accuracies)\n",
    "labels = df['failureType'].unique()\n",
    "cm = confusion_matrix(y_pred=user_result_df['failureType'], y_true=y_test_df['failureType'], labels=labels)\n",
    "# display_labels: 集計して表示するラベル。\n",
    "cmp = ConfusionMatrixDisplay(cm, display_labels=labels)\n",
    "\n",
    "cmp.plot(cmap=plt.cm.Blues, xticks_rotation='vertical')\n"
   ]
  },
  {
   "cell_type": "code",
   "execution_count": 6,
   "id": "0a99b8c1-5182-418d-839e-d98c9342092c",
   "metadata": {},
   "outputs": [
    {
     "data": {
      "application/vnd.jupyter.widget-view+json": {
       "model_id": "35200a7628794c24b66d89adc8aa9532",
       "version_major": 2,
       "version_minor": 0
      },
      "text/plain": [
       "interactive(children=(Dropdown(description='failureType', index=2, options=('Edge-Ring', 'Edge-Loc', 'Loc', 'R…"
      ]
     },
     "metadata": {},
     "output_type": "display_data"
    }
   ],
   "source": [
    "#\n",
    "# 誤分類したものを閲覧する。\n",
    "#\n",
    "from ipywidgets import interact, interactive, fixed, interact_manual\n",
    "import ipywidgets as widgets\n",
    "import matplotlib.pyplot as plt\n",
    "\n",
    "# 画像の表示関数\n",
    "def image_show(target_df, y_test_df, x_test_df, user_result_df, x=0): \n",
    "    ori_image = x_test_df.waferMap[x]\n",
    "    true_label = y_test_df.failureType[x]\n",
    "    result_label = user_result_df.failureType[x]\n",
    "    print('true label  :', true_label)\n",
    "    print('result label:', result_label)\n",
    "    plt.imshow(ori_image)\n",
    "    plt.show()\n",
    "    return x\n",
    "\n",
    "# failureType 選択関数\n",
    "def select_type(failureType='Loc'): \n",
    "    drop_indexes = []\n",
    "    for index in range(len(user_result_df)):\n",
    "        true_df = y_test_df.iloc[index]\n",
    "        result_df = user_result_df.iloc[index]\n",
    "        if true_df.failureType != failureType:\n",
    "            drop_indexes.append(true_df.name)\n",
    "            continue\n",
    "        if true_df.failureType == result_df.failureType:\n",
    "            drop_indexes.append(true_df.name)\n",
    "    filterd_df = x_test_df.drop(index=drop_indexes)\n",
    "    num_widget = widgets.IntSlider(\n",
    "        value=0,\n",
    "        min=0,\n",
    "        max=len(filterd_df.waferMap) - 1\n",
    "    )\n",
    "    interact(image_show,\n",
    "        x=num_widget,\n",
    "        target_df=fixed(x_test_df.drop(index=drop_indexes).reset_index()),\n",
    "        y_test_df=fixed(y_test_df.drop(index=drop_indexes).reset_index()),\n",
    "        x_test_df=fixed(x_test_df.drop(index=drop_indexes).reset_index()),\n",
    "        user_result_df=fixed(user_result_df.drop(index=drop_indexes).reset_index()),\n",
    "    );\n",
    "\n",
    "labels = y_test_df.failureType.unique() # ラベル取得\n",
    "interact(select_type, failureType=labels); # failureType選択"
   ]
  },
  {
   "cell_type": "code",
   "execution_count": null,
   "id": "9e706579-24f5-4d1e-8d1e-79d972ee6741",
   "metadata": {},
   "outputs": [],
   "source": []
  }
 ],
 "metadata": {
  "kernelspec": {
   "display_name": "Python 3 (ipykernel)",
   "language": "python",
   "name": "python3"
  },
  "language_info": {
   "codemirror_mode": {
    "name": "ipython",
    "version": 3
   },
   "file_extension": ".py",
   "mimetype": "text/x-python",
   "name": "python",
   "nbconvert_exporter": "python",
   "pygments_lexer": "ipython3",
   "version": "3.11.6"
  }
 },
 "nbformat": 4,
 "nbformat_minor": 5
}
